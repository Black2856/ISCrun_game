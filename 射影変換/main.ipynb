{
 "cells": [
  {
   "cell_type": "code",
   "execution_count": 49,
   "metadata": {},
   "outputs": [],
   "source": [
    "#####################################################\n",
    "# ET-robot-contest Game Area Detection and find block color.\n",
    "# Copyright © 2022 naoki hunada. All rights reserved.\n",
    "#####################################################"
   ]
  },
  {
   "cell_type": "code",
   "execution_count": 50,
   "metadata": {},
   "outputs": [],
   "source": [
    "from sklearn.decomposition import PCA\n",
    "from PIL import Image, ImageDraw\n",
    "import numpy as np\n",
    "import matplotlib.pyplot as plt\n",
    "import matplotlib.patches as patches\n",
    "import cv2\n",
    "\n",
    "from copy import deepcopy\n",
    "import sys\n",
    "import math\n",
    "import array\n",
    "\n",
    "import area_detect\n",
    "import perspective"
   ]
  },
  {
   "cell_type": "code",
   "execution_count": 51,
   "metadata": {},
   "outputs": [],
   "source": [
    "param = area_detect.option()\n",
    "ad = area_detect.AreaDetection()"
   ]
  },
  {
   "cell_type": "code",
   "execution_count": 52,
   "metadata": {},
   "outputs": [],
   "source": [
    "def init():\n",
    "    param.PROCESS_IMAGE_SIZE = [300, 320]\n",
    "    param.IMAGE_MASK_MIN_THRESHOLD = [0,51,70] #HSV\n",
    "    param.IMAGE_MASK_MAX_THRESHOLD = [255,255,255] #HSV\n",
    "    param.LINE_COLOR_DETECTION_FINENESS = 30\n",
    "    param.LINE_COLOR_DETECTION_SCORE_THRESHOLD = 550\n",
    "    param.LINE_COLOR_DETECTION_MAX_THRESHOLD = [255,255,45] #HSV\n",
    "    param.LINE_DETECTION_ROTATE_RANGE = 1.7\n",
    "    param.POINT_DETECTION_MIN_AREA_THRESHOLD = 30\n",
    "    param.POINT_DETECTION_MAX_AREA_THRESHOLD = 450\n",
    "    param.BLUE_CIRCLE_DETECTION_MIN_THRESHOLD = [50, 0, 0] #HSV\n",
    "    param.BLUE_CIRCLE_DETECTION_MAX_THRESHOLD = [90, 255, 255] #HSV\n",
    "    param.GREEN_CIRCLE_DETECTION_MIN_THRESHOLD = [90, 0, 0] #HSV\n",
    "    param.GREEN_CIRCLE_DETECTION_MAX_THRESHOLD = [125, 255, 255] #HSV\n",
    "\n",
    "    ad.set_option(param)\n",
    "\n",
    "init()"
   ]
  },
  {
   "cell_type": "code",
   "execution_count": 53,
   "metadata": {},
   "outputs": [],
   "source": [
    "### カメラデバイスを使う(リアルタイム)\n",
    "def camera():\n",
    "    window_name = \"camera_et\"\n",
    "    cap = cv2.VideoCapture(2)\n",
    "\n",
    "    if not cap.isOpened():\n",
    "        sys.exit()\n",
    "    ret, frame = cap.read()\n",
    "    width = frame.shape[0]\n",
    "    height = frame.shape[1]\n",
    "    \n",
    "    while True:\n",
    "        #カメラからの画像取得\n",
    "        ret, frame = cap.read()\n",
    "        if not ret:\n",
    "            break\n",
    "        out_img, point, success = ad.detect(frame)\n",
    "        img = out_img[0]\n",
    "        if(success == True):\n",
    "            img = perspective.area_perspective_transform(img, point, 82)\n",
    "        img = cv2.resize(img, (int(cap.get(cv2.CAP_PROP_FRAME_WIDTH)), int(cap.get(cv2.CAP_PROP_FRAME_HEIGHT)))) #(int(width*2), int(height*2))\n",
    "        #カメラの画像の出力\n",
    "        cv2.imshow('camera' , img)\n",
    "\n",
    "        #繰り返し分から抜けるためのif文\n",
    "        key = cv2.waitKey(33)\n",
    "        if key == 27:\n",
    "            break\n",
    "\n",
    "    #メモリを解放して終了するためのコマンド\n",
    "    cap.release()\n",
    "    cv2.destroyAllWindows()"
   ]
  },
  {
   "cell_type": "code",
   "execution_count": 54,
   "metadata": {},
   "outputs": [],
   "source": [
    "### 動画データを使う\n",
    "def video(file_name):\n",
    "    window_name = \"video_et\"\n",
    "    cap_file = cv2.VideoCapture(file_name)\n",
    "\n",
    "    if not cap_file.isOpened():\n",
    "        sys.exit()\n",
    "    ret, frame = cap_file.read()\n",
    "    width = frame.shape[0]\n",
    "    height = frame.shape[1]\n",
    "    \n",
    "\n",
    "    wait_time = int(round(cap_file.get(cv2.CAP_PROP_FPS), 0))\n",
    "    while True:\n",
    "        ret, frame = cap_file.read()\n",
    "        if not ret:\n",
    "            break\n",
    "        out_img, point, success = ad.detect(frame)\n",
    "        img = out_img[0]\n",
    "        if(success == True):\n",
    "            s_point = point\n",
    "        \n",
    "        img = perspective.area_perspective_transform(img, s_point, 82)\n",
    "        img = cv2.resize(img, (int(cap_file.get(cv2.CAP_PROP_FRAME_WIDTH)), int(cap_file.get(cv2.CAP_PROP_FRAME_HEIGHT)))) #(int(width*1.2), int(height*1.2))\n",
    "        cv2.imshow(window_name, img)\n",
    "\n",
    "        key = cv2.waitKey(wait_time)\n",
    "        if key == 27:\n",
    "            break\n",
    "\n",
    "    cap_file.release()\n",
    "    cv2.destroyWindow(window_name)"
   ]
  },
  {
   "cell_type": "code",
   "execution_count": 55,
   "metadata": {},
   "outputs": [],
   "source": [
    "###画像データを使う\n",
    "def image(file_name):\n",
    "    img = cv2.imread(file_name)\n",
    "    out_img, point, success = ad.detect(img)\n",
    "    img = out_img[0]\n",
    "    if(success == True):\n",
    "        img = perspective.area_perspective_transform(img, point, 82)\n",
    "    cv2.imwrite(\"a.png\",np.asarray(img))\n",
    "    plt.imshow(np.asarray(img))"
   ]
  },
  {
   "cell_type": "code",
   "execution_count": 56,
   "metadata": {},
   "outputs": [],
   "source": [
    "##### execute #####\n",
    "\n",
    "#image(\"pic2.png\")\n",
    "video(\"video2.mp4\")\n",
    "#camera()"
   ]
  }
 ],
 "metadata": {
  "kernelspec": {
   "display_name": "Python 3.8.8 ('base')",
   "language": "python",
   "name": "python3"
  },
  "language_info": {
   "codemirror_mode": {
    "name": "ipython",
    "version": 3
   },
   "file_extension": ".py",
   "mimetype": "text/x-python",
   "name": "python",
   "nbconvert_exporter": "python",
   "pygments_lexer": "ipython3",
   "version": "3.8.8"
  },
  "orig_nbformat": 4,
  "vscode": {
   "interpreter": {
    "hash": "ad2bdc8ecc057115af97d19610ffacc2b4e99fae6737bb82f5d7fb13d2f2c186"
   }
  }
 },
 "nbformat": 4,
 "nbformat_minor": 2
}
