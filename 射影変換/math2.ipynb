{
 "cells": [
  {
   "cell_type": "code",
   "execution_count": 2,
   "metadata": {},
   "outputs": [
    {
     "ename": "TclError",
     "evalue": "invalid command name \".!canvas\"",
     "output_type": "error",
     "traceback": [
      "\u001b[1;31m---------------------------------------------------------------------------\u001b[0m",
      "\u001b[1;31mTclError\u001b[0m                                  Traceback (most recent call last)",
      "\u001b[1;32m<ipython-input-2-9c189215a730>\u001b[0m in \u001b[0;36m<module>\u001b[1;34m\u001b[0m\n\u001b[0;32m     23\u001b[0m \u001b[1;33m\u001b[0m\u001b[0m\n\u001b[0;32m     24\u001b[0m     \u001b[1;31m# 円を消す\u001b[0m\u001b[1;33m\u001b[0m\u001b[1;33m\u001b[0m\u001b[1;33m\u001b[0m\u001b[0m\n\u001b[1;32m---> 25\u001b[1;33m     \u001b[0mcanvas\u001b[0m\u001b[1;33m.\u001b[0m\u001b[0mcreate_oval\u001b[0m\u001b[1;33m(\u001b[0m\u001b[0mx\u001b[0m \u001b[1;33m-\u001b[0m \u001b[0mradius\u001b[0m\u001b[1;33m,\u001b[0m \u001b[0my\u001b[0m \u001b[1;33m-\u001b[0m \u001b[0mradius\u001b[0m\u001b[1;33m,\u001b[0m \u001b[0mx\u001b[0m \u001b[1;33m+\u001b[0m \u001b[0mradius\u001b[0m\u001b[1;33m,\u001b[0m \u001b[0my\u001b[0m \u001b[1;33m+\u001b[0m \u001b[0mradius\u001b[0m\u001b[1;33m,\u001b[0m \u001b[0mfill\u001b[0m\u001b[1;33m=\u001b[0m\u001b[1;34m\"white\"\u001b[0m\u001b[1;33m,\u001b[0m \u001b[0mwidth\u001b[0m\u001b[1;33m=\u001b[0m\u001b[1;36m0\u001b[0m\u001b[1;33m)\u001b[0m\u001b[1;33m\u001b[0m\u001b[1;33m\u001b[0m\u001b[0m\n\u001b[0m\u001b[0;32m     26\u001b[0m \u001b[1;33m\u001b[0m\u001b[0m\n\u001b[0;32m     27\u001b[0m     \u001b[1;31m# x座標, y座標を動かす\u001b[0m\u001b[1;33m\u001b[0m\u001b[1;33m\u001b[0m\u001b[1;33m\u001b[0m\u001b[0m\n",
      "\u001b[1;32mc:\\ProgramData\\Anaconda3\\lib\\tkinter\\__init__.py\u001b[0m in \u001b[0;36mcreate_oval\u001b[1;34m(self, *args, **kw)\u001b[0m\n\u001b[0;32m   2796\u001b[0m     \u001b[1;32mdef\u001b[0m \u001b[0mcreate_oval\u001b[0m\u001b[1;33m(\u001b[0m\u001b[0mself\u001b[0m\u001b[1;33m,\u001b[0m \u001b[1;33m*\u001b[0m\u001b[0margs\u001b[0m\u001b[1;33m,\u001b[0m \u001b[1;33m**\u001b[0m\u001b[0mkw\u001b[0m\u001b[1;33m)\u001b[0m\u001b[1;33m:\u001b[0m\u001b[1;33m\u001b[0m\u001b[1;33m\u001b[0m\u001b[0m\n\u001b[0;32m   2797\u001b[0m         \u001b[1;34m\"\"\"Create oval with coordinates x1,y1,x2,y2.\"\"\"\u001b[0m\u001b[1;33m\u001b[0m\u001b[1;33m\u001b[0m\u001b[0m\n\u001b[1;32m-> 2798\u001b[1;33m         \u001b[1;32mreturn\u001b[0m \u001b[0mself\u001b[0m\u001b[1;33m.\u001b[0m\u001b[0m_create\u001b[0m\u001b[1;33m(\u001b[0m\u001b[1;34m'oval'\u001b[0m\u001b[1;33m,\u001b[0m \u001b[0margs\u001b[0m\u001b[1;33m,\u001b[0m \u001b[0mkw\u001b[0m\u001b[1;33m)\u001b[0m\u001b[1;33m\u001b[0m\u001b[1;33m\u001b[0m\u001b[0m\n\u001b[0m\u001b[0;32m   2799\u001b[0m \u001b[1;33m\u001b[0m\u001b[0m\n\u001b[0;32m   2800\u001b[0m     \u001b[1;32mdef\u001b[0m \u001b[0mcreate_polygon\u001b[0m\u001b[1;33m(\u001b[0m\u001b[0mself\u001b[0m\u001b[1;33m,\u001b[0m \u001b[1;33m*\u001b[0m\u001b[0margs\u001b[0m\u001b[1;33m,\u001b[0m \u001b[1;33m**\u001b[0m\u001b[0mkw\u001b[0m\u001b[1;33m)\u001b[0m\u001b[1;33m:\u001b[0m\u001b[1;33m\u001b[0m\u001b[1;33m\u001b[0m\u001b[0m\n",
      "\u001b[1;32mc:\\ProgramData\\Anaconda3\\lib\\tkinter\\__init__.py\u001b[0m in \u001b[0;36m_create\u001b[1;34m(self, itemType, args, kw)\u001b[0m\n\u001b[0;32m   2774\u001b[0m         \u001b[1;32melse\u001b[0m\u001b[1;33m:\u001b[0m\u001b[1;33m\u001b[0m\u001b[1;33m\u001b[0m\u001b[0m\n\u001b[0;32m   2775\u001b[0m             \u001b[0mcnf\u001b[0m \u001b[1;33m=\u001b[0m \u001b[1;33m{\u001b[0m\u001b[1;33m}\u001b[0m\u001b[1;33m\u001b[0m\u001b[1;33m\u001b[0m\u001b[0m\n\u001b[1;32m-> 2776\u001b[1;33m         return self.tk.getint(self.tk.call(\n\u001b[0m\u001b[0;32m   2777\u001b[0m             \u001b[0mself\u001b[0m\u001b[1;33m.\u001b[0m\u001b[0m_w\u001b[0m\u001b[1;33m,\u001b[0m \u001b[1;34m'create'\u001b[0m\u001b[1;33m,\u001b[0m \u001b[0mitemType\u001b[0m\u001b[1;33m,\u001b[0m\u001b[1;33m\u001b[0m\u001b[1;33m\u001b[0m\u001b[0m\n\u001b[0;32m   2778\u001b[0m             *(args + self._options(cnf, kw))))\n",
      "\u001b[1;31mTclError\u001b[0m: invalid command name \".!canvas\""
     ]
    }
   ],
   "source": [
    "import tkinter as tk\n",
    "\n",
    "root = tk.Tk()\n",
    "root.geometry(\"640x480\")\n",
    "\n",
    "canvas = tk.Canvas(root, width=640, height=480)\n",
    "canvas.place(x=0, y=0)\n",
    "\n",
    "# 画面上で速度3、半径5のボール、画面端に当たると跳ね返るプログラム\n",
    "\n",
    "speed = 3\n",
    "radius = 5\n",
    "\n",
    "x = 320\n",
    "y = 240\n",
    "\n",
    "dx = 1\n",
    "dy = 1\n",
    "\n",
    "while True:\n",
    "    # イベント処理\n",
    "    root.update()\n",
    "\n",
    "    # 円を消す\n",
    "    canvas.create_oval(x - radius, y - radius, x + radius, y + radius, fill=\"white\", width=0)\n",
    "\n",
    "    # x座標, y座標を動かす\n",
    "    x = x + dx\n",
    "    y = y + dy\n",
    "\n",
    "    # 画面端に当たったら跳ね返る\n",
    "    if x < radius or x > 640 - radius:\n",
    "        dx = dx * -1\n",
    "    if y < radius or y > 480 - radius:\n",
    "        dy = dy * -1\n",
    "\n",
    "    # 円を描く\n",
    "    canvas.create_oval(x - radius, y - radius, x + radius, y + radius, fill=\"red\", width=0)"
   ]
  },
  {
   "cell_type": "code",
   "execution_count": null,
   "metadata": {},
   "outputs": [],
   "source": [
    "import math\n",
    "\n",
    "A = [0, 0]\n",
    "B = [10, 5]\n",
    "C = [20, 20]\n",
    "\n",
    "def check_collinearity(A, B, C, epsilon=1):\n",
    "    collinear = False\n",
    "    AB = math.sqrt((B[0] - A[0])**2 + (B[1] - A[1])**2)\n",
    "    BC = math.sqrt((C[0] - B[0])**2 + (C[1] - B[1])**2)\n",
    "    AC = math.sqrt((C[0] - A[0])**2 + (C[1] - A[1])**2)\n",
    "    if AB + BC - AC <= epsilon:\n",
    "        collinear = True\n",
    "    print(AB+BC-AC)\n",
    "    return collinear\n",
    "\n",
    "print(check_collinearity(A, B, C, 1))\n"
   ]
  },
  {
   "cell_type": "code",
   "execution_count": null,
   "metadata": {},
   "outputs": [],
   "source": [
    "import numpy as np\n",
    "from sklearn.decomposition import PCA\n",
    "\n",
    "pos = [([110, 208]), ([ 89, 158]), ([59, 83]), ([ 73, 117])]\n",
    "pca = PCA(n_components=2)\n",
    "pca.fit(pos)\n",
    "pca_data = pca.transform(pos)\n",
    "avg = np.mean(pca_data, axis=0)\n",
    "\n",
    "#直線上の点が均等に並んでいるかを判断　(分散を利用)\n",
    "diff = pca_data[1:] - pca_data[:-1]\n",
    "dispersion = np.mean((diff - np.mean(diff, axis=0))**2, axis=0)\n",
    "print(dispersion[0])\n",
    "\n",
    "print(diff - np.mean(diff, axis=0))\n",
    "\n",
    "#print(pca_data)\n",
    "print(avg)"
   ]
  },
  {
   "cell_type": "code",
   "execution_count": null,
   "metadata": {},
   "outputs": [],
   "source": [
    "\n",
    "import numpy as np\n",
    "\n",
    "pos = np.array([[10, 5], [20, 10], [40, 20], [80, 40]])\n",
    "\n",
    "print(pos[1:] - pos[:-1])"
   ]
  },
  {
   "cell_type": "code",
   "execution_count": null,
   "metadata": {},
   "outputs": [],
   "source": [
    "import numpy as np\n",
    "a = np.array([[1,5],[3,5],[3,7]])\n",
    "b = np.array([2,5,8])\n",
    "result = np.where(a[0] == b)\n",
    "print(result)"
   ]
  },
  {
   "cell_type": "code",
   "execution_count": null,
   "metadata": {},
   "outputs": [],
   "source": [
    "### pos1 から pos2までの直線pxのlistを返す nは分割数\n",
    "def create_line_point(pos1, pos2, n):\n",
    "  npos1 = np.array(pos1)\n",
    "  npos2 = np.array(pos2)\n",
    "  \n",
    "  dpos = (npos2 - npos1) / (n + 1)\n",
    "\n",
    "  pos = npos1\n",
    "  li = []\n",
    "  for i in range(n):\n",
    "    pos = pos + dpos\n",
    "    li.append(pos.tolist())\n",
    "\n",
    "  li = np.unique(np.round(li, 0), axis=0)\n",
    "  li = li.astype(np.int64)\n",
    "  return li.tolist()\n",
    "\n",
    "\n",
    "a = [[10, 10], [100, 200]]\n",
    "b = create_line_point(a[0], a[1], 20)\n",
    "print(b)\n",
    "\n"
   ]
  },
  {
   "cell_type": "code",
   "execution_count": null,
   "metadata": {},
   "outputs": [],
   "source": [
    "a = [1, 2, 100]\n",
    "print((1<2 and (np.array(a) < [255, 255, 60]).all()))\n",
    "if(1<2 and np.array(a) < [255, 255, 60]).all():\n",
    "  print(a)"
   ]
  },
  {
   "cell_type": "code",
   "execution_count": null,
   "metadata": {},
   "outputs": [],
   "source": [
    "import sys\n",
    "import cv2\n",
    "### 動画データを使う\n",
    "def video(file_name):\n",
    "    window_name = \"video_et\"\n",
    "    cap_file = cv2.VideoCapture(file_name)\n",
    "\n",
    "    if not cap_file.isOpened():\n",
    "        sys.exit()\n",
    "\n",
    "    wait_time = int(round(cap_file.get(cv2.CAP_PROP_FPS), 0))\n",
    "    while True:\n",
    "        ret, frame = cap_file.read()\n",
    "        cv2.imshow(window_name, frame)\n",
    "\n",
    "        key = cv2.waitKey(wait_time)\n",
    "        if key == 27:\n",
    "            break\n",
    "\n",
    "    cap_file.release()\n",
    "    cv2.destroyWindow(window_name)\n",
    "\n",
    "video(\"video2.mp4\")\n",
    "    "
   ]
  },
  {
   "cell_type": "code",
   "execution_count": null,
   "metadata": {},
   "outputs": [
    {
     "name": "stdout",
     "output_type": "stream",
     "text": [
      "0\n"
     ]
    }
   ],
   "source": [
    "### カメラデバイスを使う(リアルタイム)\n",
    "def camera():\n",
    "    window_name = \"camera_et\"\n",
    "    cap = cv2.VideoCapture(1)\n",
    "\n",
    "    if not cap.isOpened():\n",
    "        sys.exit()\n",
    "    \n",
    "    wait_time = int(round(cap.get(cv2.CAP_PROP_FPS), 0))\n",
    "    print(wait_time)\n",
    "    while True:\n",
    "        #カメラからの画像取得\n",
    "        ret, frame = cap.read()\n",
    "        out_img = main(frame)\n",
    "        #カメラの画像の出力\n",
    "        cv2.imshow('camera' , out_img)\n",
    "\n",
    "        #繰り返し分から抜けるためのif文\n",
    "        key = cv2.waitKey(33)\n",
    "        if key == 27:\n",
    "            break\n",
    "\n",
    "    #メモリを解放して終了するためのコマンド\n",
    "    cap.release()\n",
    "    cv2.destroyAllWindows()\n",
    "\n",
    "camera()\n",
    "    "
   ]
  },
  {
   "cell_type": "code",
   "execution_count": 38,
   "metadata": {},
   "outputs": [
    {
     "name": "stdout",
     "output_type": "stream",
     "text": [
      "-93\n"
     ]
    }
   ],
   "source": [
    "import math\n",
    "import numpy as np\n",
    "a = np.array([3,-5,6,7,3,5,-14])\n",
    "print( sum(a * np.abs(a)))"
   ]
  },
  {
   "cell_type": "code",
   "execution_count": 103,
   "metadata": {},
   "outputs": [
    {
     "name": "stdout",
     "output_type": "stream",
     "text": [
      "[[2, 0.0], [3, 14.142135623730947], [1, 14.14213562373095], [0, 28.2842712474619]]\n"
     ]
    }
   ],
   "source": [
    "from operator import index\n",
    "from sklearn.decomposition import PCA\n",
    "data = [[10,10],[20,20],[30,30],[40,40]]\n",
    "b=data.index([30,30])\n",
    "\n",
    "pca = PCA(n_components=1)\n",
    "pca.fit(data)\n",
    "a = pca.transform(data)\n",
    "a = abs(a - a[b])\n",
    "a = [[i, a[0]] for i,a in enumerate(a)]\n",
    "a = sorted(a,key = lambda x: x[1])\n",
    "print(a)\n"
   ]
  },
  {
   "cell_type": "code",
   "execution_count": 105,
   "metadata": {},
   "outputs": [
    {
     "name": "stdout",
     "output_type": "stream",
     "text": [
      "1000\n"
     ]
    }
   ],
   "source": [
    "def a():\n",
    "    return 10, 1000\n",
    "c, v = a()\n",
    "\n",
    "print(v)"
   ]
  }
 ],
 "metadata": {
  "kernelspec": {
   "display_name": "Python 3.8.8 ('base')",
   "language": "python",
   "name": "python3"
  },
  "language_info": {
   "codemirror_mode": {
    "name": "ipython",
    "version": 3
   },
   "file_extension": ".py",
   "mimetype": "text/x-python",
   "name": "python",
   "nbconvert_exporter": "python",
   "pygments_lexer": "ipython3",
   "version": "3.8.8"
  },
  "orig_nbformat": 4,
  "vscode": {
   "interpreter": {
    "hash": "ad2bdc8ecc057115af97d19610ffacc2b4e99fae6737bb82f5d7fb13d2f2c186"
   }
  }
 },
 "nbformat": 4,
 "nbformat_minor": 2
}
