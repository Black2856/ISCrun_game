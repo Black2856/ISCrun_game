{
 "cells": [
  {
   "cell_type": "code",
   "execution_count": 2,
   "metadata": {},
   "outputs": [
    {
     "name": "stdout",
     "output_type": "stream",
     "text": [
      "c1: [   1   44   83  -71  120  -28   11   47 -128  -87  -50  -14 -176 -136\n",
      "  -99  -65]\n",
      "b2: 1.4142135623730951\n",
      "a2: [1.0, 65.80273550544841, 125.57467897629681, 54.230987451824994, 179.6886195617296, 74.79304780526061, 119.75391434103521, 165.3027525481654, 98.2344135219425, 104.23531071570709, 130.73637596323374, 165.75886099994776, 135.00370365289984, 134.01492454200763, 149.61617559608987, 173.7728402253931]\n",
      "c2: [45.00000000000001, 61.78264414527071, 62.13627450357599, 157.78240573048168, 61.82140989004083, 105.35013649242443, 86.27594202725172, 78.40166838692689, 157.12633480937328, 126.17025533209093, 105.68999292908387, 93.42387124493068, 157.19545952867895, 135.8550973962667, 117.89727103094764, 105.33691133773591]\n"
     ]
    }
   ],
   "source": [
    "import cv2\n",
    "import numpy as np\n",
    "import matplotlib.pyplot as plt\n",
    "import math\n",
    "\n",
    "a = [20,0]\n",
    "b = [0,30]\n",
    "\n",
    "#行列ない積(角度)\n",
    "b1 = np.array([110, 208])#対象座標\n",
    "a1 = np.array([[110, 209], [173, 189], [230, 171], [89, 158], [282, 156], [147, 143], [200, 129], [248, 117], [73, 117], [126, 105], [174, 94], [220, 84], [59, 83], [108, 74], [154, 65], [196, 57]])#比較座標\n",
    "a1 = [(i - b1) for i in a1]\n",
    "b1 = np.array([1, 1])\n",
    "\n",
    "\n",
    "b2 = np.sqrt( (b1[0]**2) + (b1[1]**2) )#対象座標のユークリッド距離\n",
    "a2 = [np.sqrt( (i[0]**2) + (i[1]**2) ) for i in a1]#比較座標のユークリッド距離\n",
    "\n",
    "c1 = np.dot(a1,b1) #ない積\n",
    "c2 = []\n",
    "for i in range(len(c1)):\n",
    "    c2.append(math.degrees(math.acos((c1[i]) / (b2 * a2[i]))))\n",
    "\n",
    "print(\"c1:\",c1)\n",
    "print(\"b2:\",b2)\n",
    "print(\"a2:\",a2)\n",
    "print(\"c2:\",c2)\n",
    "\n",
    "#ans = a[0]*b[1] - a[1]*b[0] #平行 = 0\n",
    "#ans = a[0]*b[0] + a[1]*b[1] #垂直 = 0\n",
    "\n"
   ]
  },
  {
   "cell_type": "code",
   "execution_count": 3,
   "metadata": {},
   "outputs": [
    {
     "name": "stdout",
     "output_type": "stream",
     "text": [
      "[array([-1,  0]), array([ 62, -20]), array([119, -38]), array([-22, -51]), array([171, -53]), array([ 36, -66]), array([ 89, -80]), array([137, -92]), array([-38, -92]), array([  15, -104]), array([  63, -115]), array([ 109, -125]), array([ -52, -126]), array([  -3, -135]), array([  43, -144]), array([  85, -152])]\n",
      "[ 400  200 -200   20]\n"
     ]
    }
   ],
   "source": [
    "vec = []\n",
    "vec = [(i - b1) for i in a1]\n",
    "print(vec)\n",
    "\n",
    "b1 = np.array([0, 20])#対象座標\n",
    "a1 = np.array([[0, 20],[10, 10],[-10, -10],[22,1]])#比較座標\n",
    "\n",
    "c1 = np.dot(a1,b1) #ない積\n",
    "print(c1)"
   ]
  },
  {
   "cell_type": "code",
   "execution_count": 4,
   "metadata": {},
   "outputs": [
    {
     "data": {
      "text/plain": [
       "<matplotlib.image.AxesImage at 0x2595d8f51c0>"
      ]
     },
     "execution_count": 4,
     "metadata": {},
     "output_type": "execute_result"
    },
    {
     "data": {
      "image/png": "[encoded data removed]",
      "text/plain": [
       "<Figure size 720x720 with 1 Axes>"
      ]
     },
     "metadata": {
      "needs_background": "light"
     },
     "output_type": "display_data"
    }
   ],
   "source": [
    "height = 30\n",
    "width = 30\n",
    "image = np.zeros((height, width, 3), np.uint8)\n",
    "image += 255\n",
    "\n",
    "cv2.line(image, a, b, (0, 255, 0) ,thickness=1, lineType=cv2.LINE_8, shift=0)\n",
    "cv2.line(image, (0, 0), b, (255, 0, 0) ,thickness=1, lineType=cv2.LINE_8, shift=0)\n",
    "cv2.line(image, (0, 0), a, (0, 0, 255) ,thickness=1, lineType=cv2.LINE_8, shift=0)\n",
    "\n",
    "plt.figure(figsize=(10, 10))\n",
    "plt.imshow(np.asarray(image))"
   ]
  },
  {
   "cell_type": "code",
   "execution_count": 81,
   "metadata": {},
   "outputs": [
    {
     "name": "stdout",
     "output_type": "stream",
     "text": [
      "359.43284702466894\n"
     ]
    }
   ],
   "source": [
    "import copy\n",
    "a = (10, -0.1)\n",
    "\n",
    "def pos2deg(pos):#座標から0~360度の範囲で返す 引数 pos = [x,y]\n",
    "    posh = [i + 0.001 for i in pos]\n",
    "    deg = math.degrees(math.atan(posh[1]/posh[0]))\n",
    "    if(posh[0] >= 0 and posh[1] < 0):\n",
    "        deg += 360\n",
    "    elif(posh[0] < 0 and posh[1] >= 0):\n",
    "        deg += 180\n",
    "    elif(posh[0] < 0 and posh[1] < 0):\n",
    "        deg += 180\n",
    "    return deg\n",
    "\n",
    "\n",
    "\n",
    "print(pos2deg(a))"
   ]
  }
 ],
 "metadata": {
  "kernelspec": {
   "display_name": "Python 3.8.8 ('base')",
   "language": "python",
   "name": "python3"
  },
  "language_info": {
   "codemirror_mode": {
    "name": "ipython",
    "version": 3
   },
   "file_extension": ".py",
   "mimetype": "text/x-python",
   "name": "python",
   "nbconvert_exporter": "python",
   "pygments_lexer": "ipython3",
   "version": "3.8.8"
  },
  "orig_nbformat": 4,
  "vscode": {
   "interpreter": {
    "hash": "ad2bdc8ecc057115af97d19610ffacc2b4e99fae6737bb82f5d7fb13d2f2c186"
   }
  }
 },
 "nbformat": 4,
 "nbformat_minor": 2
}
