{
 "cells": [
  {
   "cell_type": "code",
   "execution_count": 125,
   "metadata": {},
   "outputs": [],
   "source": [
    "#####################################################\n",
    "# ET-robot-contest Game Area Detection and find block color.\n",
    "# Copyright © 2022 naoki hunada. All rights reserved.\n",
    "#####################################################"
   ]
  },
  {
   "cell_type": "code",
   "execution_count": 126,
   "metadata": {},
   "outputs": [],
   "source": [
    "from sklearn.decomposition import PCA\n",
    "from PIL import Image, ImageDraw\n",
    "import numpy as np\n",
    "import matplotlib.pyplot as plt\n",
    "import matplotlib.patches as patches\n",
    "import cv2\n",
    "\n",
    "from copy import deepcopy"
   ]
  },
  {
   "cell_type": "code",
   "execution_count": 127,
   "metadata": {},
   "outputs": [],
   "source": [
    "class option:\n",
    "    BLOCK_POS = [[150, 12], [288, 150], [150, 288], [12, 150],\n",
    "        [-1, -1],\n",
    "        [86, 86], [150, 86], [216, 86],\n",
    "        [86, 150], [216, 150],\n",
    "        [86, 216], [150, 216], [216, 216]]\n",
    "    RED_BLOCK_MIN_THRESHOLD1 = [0, 60, 60] #HSV\n",
    "    RED_BLOCK_MAX_THRESHOLD1 = [20, 255, 255] #HSV\n",
    "    RED_BLOCK_MIN_THRESHOLD2 = [160, 60, 60] #HSV\n",
    "    RED_BLOCK_MAX_THRESHOLD2 = [179, 255, 255] #HSV\n",
    "    GREEN_BLOCK_MIN_THRESHOLD = [45, 60, 60] #HSV\n",
    "    GREEN_BLOCK_MAX_THRESHOLD = [80, 255, 255] #HSV\n",
    "    BLUE_BLOCK_MIN_THRESHOLD = [105, 60, 60] #HSV\n",
    "    BLUE_BLOCK_MAX_THRESHOLD = [140, 255, 255] #HSV\n",
    "    YELLOW_BLOCK_MIN_THRESHOLD = [20, 60, 60] #HSV\n",
    "    YELLOW_BLOCK_MAX_THRESHOLD = [45, 255, 255] #HSV"
   ]
  },
  {
   "cell_type": "code",
   "execution_count": 128,
   "metadata": {},
   "outputs": [],
   "source": [
    "### 画像処理 閾値マスク -> 2値化 (hsv)\n",
    "def img_mask(img, min, max):\n",
    "    hsv = cv2.cvtColor(img, cv2.COLOR_BGR2HSV)\n",
    "    hsv_min = np.array(min)\n",
    "    hsv_max = np.array(max) # |調整箇所|\n",
    "    mask = cv2.inRange(hsv, hsv_min, hsv_max)\n",
    "    masked_img = cv2.bitwise_and(img, img, mask=mask)\n",
    "    mask_gray = cv2.cvtColor(masked_img, cv2.COLOR_BGR2GRAY)\n",
    "    ret, mask_bit = cv2.threshold(mask_gray, 1, 255, cv2.THRESH_BINARY)\n",
    "    kernel = np.ones((2,2), np.uint8)\n",
    "    mask_bit = cv2.dilate(mask_bit, kernel, iterations = 1)\n",
    "    return mask_bit"
   ]
  },
  {
   "cell_type": "code",
   "execution_count": 129,
   "metadata": {},
   "outputs": [
    {
     "data": {
      "text/plain": [
       "([3, 2, 4, 1, 0, 1, 1, 3, 2, 3, 2, 4, 4], True)"
      ]
     },
     "execution_count": 129,
     "metadata": {},
     "output_type": "execute_result"
    },
    {
     "data": {
      "image/png": "[encoded data removed]",
      "text/plain": [
       "<Figure size 432x288 with 1 Axes>"
      ]
     },
     "metadata": {
      "needs_background": "light"
     },
     "output_type": "display_data"
    }
   ],
   "source": [
    "### エリア内のブロックの検出 300×300の場合\n",
    "def detect_block(img, point):\n",
    "    block_color = [0 for i in param.BLOCK_POS] #0:無, 1:赤, 2:緑, 3:青, 4:黄色\n",
    "\n",
    "    #画像の平滑化\n",
    "    size = 4\n",
    "    kernel = np.ones((size, size),np.float32) / (size**2)\n",
    "    blurred_img = cv2.filter2D(img,-1,kernel)\n",
    "\n",
    "    #マスク\n",
    "    red_bit1 = img_mask(blurred_img, param.RED_BLOCK_MIN_THRESHOLD1, param.RED_BLOCK_MAX_THRESHOLD1)\n",
    "    red_bit2 = img_mask(blurred_img, param.RED_BLOCK_MIN_THRESHOLD2, param.RED_BLOCK_MAX_THRESHOLD2)\n",
    "    red_bit = red_bit1 | red_bit2\n",
    "    green_bit = img_mask(blurred_img, param.GREEN_BLOCK_MIN_THRESHOLD, param.GREEN_BLOCK_MAX_THRESHOLD)\n",
    "    blue_bit = img_mask(blurred_img, param.BLUE_BLOCK_MIN_THRESHOLD, param.BLUE_BLOCK_MAX_THRESHOLD)\n",
    "    yellow_bit = img_mask(blurred_img, param.YELLOW_BLOCK_MIN_THRESHOLD, param.YELLOW_BLOCK_MAX_THRESHOLD)\n",
    "\n",
    "    #検知\n",
    "    for i, a in enumerate(param.BLOCK_POS):\n",
    "        if(red_bit[a[1]][a[0]] == 255):\n",
    "            block_color[i] = 1\n",
    "        if(green_bit[a[1]][a[0]] == 255):\n",
    "            block_color[i] = 2\n",
    "        if(blue_bit[a[1]][a[0]] == 255):\n",
    "            block_color[i] = 3\n",
    "        if(yellow_bit[a[1]][a[0]] == 255):\n",
    "            block_color[i] = 4\n",
    "    \n",
    "    block_color[4] = 0\n",
    "\n",
    "    #ブロックの数が正しいか\n",
    "    success = False\n",
    "    if(block_color.count(1) == 3 and block_color.count(2) == 3 and block_color.count(3) == 3 and block_color.count(4) == 3):\n",
    "        success = True\n",
    "\n",
    "    plt.imshow(np.array(green_bit))\n",
    "    return block_color, success\n",
    "\n",
    "img = cv2.imread(\"a.png\")\n",
    "param = option()\n",
    "detect_block(img, 0)\n",
    "    "
   ]
  }
 ],
 "metadata": {
  "kernelspec": {
   "display_name": "Python 3.8.8 ('base')",
   "language": "python",
   "name": "python3"
  },
  "language_info": {
   "codemirror_mode": {
    "name": "ipython",
    "version": 3
   },
   "file_extension": ".py",
   "mimetype": "text/x-python",
   "name": "python",
   "nbconvert_exporter": "python",
   "pygments_lexer": "ipython3",
   "version": "3.8.8"
  },
  "orig_nbformat": 4,
  "vscode": {
   "interpreter": {
    "hash": "ad2bdc8ecc057115af97d19610ffacc2b4e99fae6737bb82f5d7fb13d2f2c186"
   }
  }
 },
 "nbformat": 4,
 "nbformat_minor": 2
}
